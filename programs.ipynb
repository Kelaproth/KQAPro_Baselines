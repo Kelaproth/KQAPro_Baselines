{
 "cells": [
  {
   "cell_type": "code",
   "execution_count": 1,
   "metadata": {},
   "outputs": [],
   "source": [
    "import json\n",
    "import numpy as np\n",
    "from collections import Counter"
   ]
  },
  {
   "cell_type": "code",
   "execution_count": 2,
   "metadata": {},
   "outputs": [],
   "source": [
    "kb_json = './dataset/kb.json'\n",
    "\n",
    "train_json = './dataset/train.json'\n",
    "val_json = './dataset/val.json'\n",
    "test_json = './dataset/test.json'\n",
    "\n",
    "def string_clean(s: str) -> str:\n",
    "    s = ' '.join(s.split())\n",
    "    return s"
   ]
  },
  {
   "cell_type": "code",
   "execution_count": 3,
   "metadata": {},
   "outputs": [],
   "source": [
    "kb = json.load(open(kb_json))\n",
    "\n",
    "entities = dict()\n",
    "entities_set = set()\n",
    "concepts = dict()\n",
    "concepts_set = set()\n",
    "\n",
    "for i in kb['concepts']:\n",
    "    concepts[i] = kb['concepts'][i]['name']\n",
    "    concepts_set.add(string_clean(kb['concepts'][i]['name']))\n",
    "\n",
    "for i in kb['entities']:\n",
    "    entities[i] = kb['entities'][i]['name']\n",
    "    entities_set.add(string_clean(kb['entities'][i]['name']))"
   ]
  },
  {
   "cell_type": "code",
   "execution_count": 4,
   "metadata": {},
   "outputs": [],
   "source": [
    "# with open('concepts.txt', 'w') as f:\n",
    "#     f.write(str(concepts))\n",
    "\n",
    "# with open('entities.txt', 'w') as f:\n",
    "#     f.write(str(entities))\n",
    "\n",
    "# with open('concepts_set.txt', 'w') as f:\n",
    "#     f.write(str(concepts_set))\n",
    "\n",
    "# with open('entities_set.txt', 'w') as f:\n",
    "#     f.write(str(entities_set))"
   ]
  },
  {
   "cell_type": "code",
   "execution_count": 5,
   "metadata": {},
   "outputs": [],
   "source": [
    "trn = json.load(open(train_json))\n",
    "vld = json.load(open(val_json))\n",
    "tst = json.load(open(test_json))"
   ]
  },
  {
   "cell_type": "code",
   "execution_count": 6,
   "metadata": {},
   "outputs": [],
   "source": [
    "trn_choices = set()\n",
    "trn_find = set()\n",
    "vld_choices = set()\n",
    "vld_find = set()\n",
    "# tst_choices = set()\n",
    "# tst_find = set()"
   ]
  },
  {
   "cell_type": "markdown",
   "metadata": {},
   "source": [
    "### Program entities that are not included in KB"
   ]
  },
  {
   "cell_type": "code",
   "execution_count": 7,
   "metadata": {},
   "outputs": [],
   "source": [
    "for statement in trn:\n",
    "    for function in statement['program']:\n",
    "        if function['function'] == 'Find':\n",
    "            trn_find.add(string_clean(function['inputs'][0]))\n",
    "for statement in vld:\n",
    "    for function in statement['program']:\n",
    "        if function['function'] == 'Find':\n",
    "            vld_find.add(string_clean(function['inputs'][0]))"
   ]
  },
  {
   "cell_type": "code",
   "execution_count": 8,
   "metadata": {},
   "outputs": [],
   "source": [
    "# with open('trn_find.txt', 'w') as f:\n",
    "#     f.write(str(trn_find))\n",
    "# with open('vld_find.txt', 'w') as f:\n",
    "#     f.write(str(vld_find))"
   ]
  },
  {
   "cell_type": "code",
   "execution_count": 9,
   "metadata": {},
   "outputs": [],
   "source": [
    "trn_int_ent = trn_find.intersection(entities_set)\n",
    "vld_int_ent = vld_find.intersection(entities_set)"
   ]
  },
  {
   "cell_type": "code",
   "execution_count": 10,
   "metadata": {},
   "outputs": [
    {
     "data": {
      "text/plain": [
       "(13188, 13693, 13439, 98.13230151052905, 251)"
      ]
     },
     "execution_count": 10,
     "metadata": {},
     "output_type": "execute_result"
    }
   ],
   "source": [
    "len(trn_int_ent), len(entities_set), len(trn_find), (len(trn_int_ent) / len(trn_find) * 100), (len(trn_find) - len(trn_int_ent))"
   ]
  },
  {
   "cell_type": "code",
   "execution_count": 11,
   "metadata": {},
   "outputs": [
    {
     "data": {
      "text/plain": [
       "(7602, 13693, 7733, 98.30596146385619, 131)"
      ]
     },
     "execution_count": 11,
     "metadata": {},
     "output_type": "execute_result"
    }
   ],
   "source": [
    "len(vld_int_ent), len(entities_set), len(vld_find), (len(vld_int_ent) / len(vld_find) *100), (len(vld_find) - len(vld_int_ent))"
   ]
  },
  {
   "cell_type": "code",
   "execution_count": 12,
   "metadata": {},
   "outputs": [],
   "source": [
    "outliers_trn_find = set([(i if i not in trn_int_ent else None) for i in trn_find])\n",
    "outliers_trn_find.discard(None)\n",
    "outliers_vld_find = set([(i if i not in vld_int_ent else None) for i in vld_find])\n",
    "outliers_vld_find.discard(None)\n",
    "# outliers_entities = set([(i if i not in trn_intersection else None) for i in entities_set])\n",
    "# outliers_entities.discard(None)"
   ]
  },
  {
   "cell_type": "code",
   "execution_count": 13,
   "metadata": {},
   "outputs": [
    {
     "data": {
      "text/plain": [
       "(251, 131)"
      ]
     },
     "execution_count": 13,
     "metadata": {},
     "output_type": "execute_result"
    }
   ],
   "source": [
    "len(outliers_trn_find), len(outliers_vld_find)"
   ]
  },
  {
   "cell_type": "code",
   "execution_count": 14,
   "metadata": {},
   "outputs": [],
   "source": [
    "# with open('trn_find_exclude.txt', 'w') as f:\n",
    "#     f.write(str(outliers_trn_find))\n",
    "# with open('vld_find_exclude.txt', 'w') as f:\n",
    "#     f.write(str(outliers_vld_find))"
   ]
  },
  {
   "cell_type": "code",
   "execution_count": 15,
   "metadata": {},
   "outputs": [
    {
     "data": {
      "text/plain": [
       "(251, 131)"
      ]
     },
     "execution_count": 15,
     "metadata": {},
     "output_type": "execute_result"
    }
   ],
   "source": [
    "trn_int_all = outliers_trn_find.intersection(concepts_set)\n",
    "vld_int_all = outliers_vld_find.intersection(concepts_set)\n",
    "len(trn_int_all), len(vld_int_all)"
   ]
  },
  {
   "cell_type": "code",
   "execution_count": 16,
   "metadata": {},
   "outputs": [
    {
     "data": {
      "text/plain": [
       "(set(), set())"
      ]
     },
     "execution_count": 16,
     "metadata": {},
     "output_type": "execute_result"
    }
   ],
   "source": [
    "outliers_trn_find_all = set([(i if i not in trn_int_all else None) for i in outliers_trn_find])\n",
    "outliers_trn_find_all.discard(None)\n",
    "outliers_vld_find_all = set([(i if i not in vld_int_all else None) for i in outliers_vld_find])\n",
    "outliers_vld_find_all.discard(None)\n",
    "outliers_trn_find_all, outliers_vld_find_all"
   ]
  },
  {
   "cell_type": "code",
   "execution_count": 17,
   "metadata": {},
   "outputs": [
    {
     "name": "stdout",
     "output_type": "stream",
     "text": [
      "Which town has a TOID of 4000000074573917 and has an OS grid reference of SP8778? \n",
      " [{'function': 'FindAll', 'dependencies': [], 'inputs': []}, {'function': 'FilterStr', 'dependencies': [0], 'inputs': ['TOID', '4000000074573917']}, {'function': 'FilterConcept', 'dependencies': [1], 'inputs': ['town']}, {'function': 'FindAll', 'dependencies': [], 'inputs': []}, {'function': 'FilterStr', 'dependencies': [3], 'inputs': ['OS grid reference', 'SP8778']}, {'function': 'FilterConcept', 'dependencies': [4], 'inputs': ['town']}, {'function': 'And', 'dependencies': [2, 5], 'inputs': []}, {'function': 'What', 'dependencies': [6], 'inputs': []}] \n",
      " ['Wigan', 'Doncaster', 'Royal Tunbridge Wells', 'Kettering', 'Edmonton', 'Macclesfield', 'Blackburn', 'Colchester', 'South Shields', 'Wimbledon'] \n",
      " Kettering \n",
      "\n",
      "Who is the reviewer of the Georgia national football team, which is ranked 78th? \n",
      " [{'function': 'Find', 'dependencies': [], 'inputs': ['Georgia national football team']}, {'function': 'QueryAttrQualifier', 'dependencies': [0], 'inputs': ['ranking', '78', 'review score by']}] \n",
      " ['Peter Travers', 'Roger Ebert', 'FIFA', 'James Berardinelli', 'Innovation, Science and Economic Development Canada', 'Internet Movie Database', 'Empire', 'Charity Navigator', 'Gene Siskel', 'The World of Movies'] \n",
      " FIFA \n",
      "\n",
      "Is the name of the person that was educated at high school Laura Linney? \n",
      " [{'function': 'Find', 'dependencies': [], 'inputs': ['high school']}, {'function': 'Relate', 'dependencies': [0], 'inputs': ['educated at', 'backward']}, {'function': 'FilterConcept', 'dependencies': [1], 'inputs': ['human']}, {'function': 'QueryAttr', 'dependencies': [2], 'inputs': ['name in native language']}, {'function': 'VerifyStr', 'dependencies': [3], 'inputs': ['Laura Linney']}] \n",
      " ['yes', 'no', 'unknown', 'unknown', 'unknown', 'unknown', 'unknown', 'unknown', 'unknown', 'unknown'] \n",
      " no \n",
      "\n",
      "Which area has higher elevation (above sea level), Baghdad or Jerusalem (the one whose population is 75200)? \n",
      " [{'function': 'Find', 'dependencies': [], 'inputs': ['Baghdad']}, {'function': 'Find', 'dependencies': [], 'inputs': ['Jerusalem']}, {'function': 'FilterNum', 'dependencies': [1], 'inputs': ['population', '75200', '=']}, {'function': 'SelectBetween', 'dependencies': [0, 2], 'inputs': ['elevation above sea level', 'greater']}] \n",
      " ['Santo Domingo', 'Kingston', 'Trieste', 'Jerusalem', 'Cork', 'Abidjan', 'Bergen', 'Baghdad', 'Chihuahua', 'Dundee'] \n",
      " Jerusalem \n",
      "\n",
      "When was the person with ISNI 0000 0001 2136 4821 born? \n",
      " [{'function': 'FindAll', 'dependencies': [], 'inputs': []}, {'function': 'FilterStr', 'dependencies': [0], 'inputs': ['ISNI', '0000 0001 2136 4821']}, {'function': 'FilterConcept', 'dependencies': [1], 'inputs': ['human']}, {'function': 'QueryAttr', 'dependencies': [2], 'inputs': ['date of birth']}] \n",
      " ['1912-10-26', '1968-07-22', '1934-12-28', '1944-10-28', '1977-09-23', '1945-02-28', '1971-09-21', '1926-04-09', '1906-02-05', '1949-04-13'] \n",
      " 1906-02-05 \n",
      "\n",
      "For what was John Houseman (who is in the Jewish ethnic group) nominated for an Academy Award for Best Picture? \n",
      " [{'function': 'Find', 'dependencies': [], 'inputs': ['Jewish people']}, {'function': 'Relate', 'dependencies': [0], 'inputs': ['ethnic group', 'backward']}, {'function': 'Find', 'dependencies': [], 'inputs': ['John Houseman']}, {'function': 'And', 'dependencies': [1, 2], 'inputs': []}, {'function': 'Find', 'dependencies': [], 'inputs': ['Academy Award for Best Picture']}, {'function': 'QueryRelationQualifier', 'dependencies': [3, 4], 'inputs': ['nominated for', 'for work']}] \n",
      " ['My Fair Lady', 'With a Song in My Heart', 'The Bicentennial Man', 'In America', 'WarGames', 'Bernie', 'The Facts of Life', 'Hotel Rwanda', 'The Sunshine Boys', 'Julius Caesar'] \n",
      " Julius Caesar \n",
      "\n",
      "When did the big city whose postal code is 54000 have a population of 104072? \n",
      " [{'function': 'FindAll', 'dependencies': [], 'inputs': []}, {'function': 'FilterStr', 'dependencies': [0], 'inputs': ['postal code', '54000']}, {'function': 'FilterConcept', 'dependencies': [1], 'inputs': ['big city']}, {'function': 'QueryAttrQualifier', 'dependencies': [2], 'inputs': ['population', '104072', 'point in time']}] \n",
      " ['1980-04-01', '1868-01-01', '2008-11-12', '1790-01-01', '1964-12-01', '2010-08-11', '1772-12-01', '2013-01-01', '1861', '1810-01-01'] \n",
      " 2013-01-01 \n",
      "\n",
      "Is http://www.cheechandchong.com Eve Myles's official website? \n",
      " [{'function': 'Find', 'dependencies': [], 'inputs': ['Eve Myles']}, {'function': 'QueryAttr', 'dependencies': [0], 'inputs': ['official website']}, {'function': 'VerifyStr', 'dependencies': [1], 'inputs': ['http://www.cheechandchong.com']}] \n",
      " ['yes', 'no', 'unknown', 'unknown', 'unknown', 'unknown', 'unknown', 'unknown', 'unknown', 'unknown'] \n",
      " no \n",
      "\n",
      "What has alternative rock in common with Greg Graffin? \n",
      " [{'function': 'Find', 'dependencies': [], 'inputs': ['alternative rock']}, {'function': 'Find', 'dependencies': [], 'inputs': ['Greg Graffin']}, {'function': 'QueryRelation', 'dependencies': [0, 1], 'inputs': []}] \n",
      " ['film editor', 'mouth of the watercourse', 'is a list of', 'theme music', 'famous people', 'follows', 'diplomatic relation', 'drafted by', 'distribution', 'art director'] \n",
      " famous people \n",
      "\n",
      "Is Elias Koteas the name in native language of the person with ISNI 0000 0001 0893 552X? \n",
      " [{'function': 'FindAll', 'dependencies': [], 'inputs': []}, {'function': 'FilterStr', 'dependencies': [0], 'inputs': ['ISNI', '0000 0001 0893 552X']}, {'function': 'FilterConcept', 'dependencies': [1], 'inputs': ['human']}, {'function': 'QueryAttr', 'dependencies': [2], 'inputs': ['name in native language']}, {'function': 'VerifyStr', 'dependencies': [3], 'inputs': ['Elias Koteas']}] \n",
      " ['yes', 'no', 'unknown', 'unknown', 'unknown', 'unknown', 'unknown', 'unknown', 'unknown', 'unknown'] \n",
      " yes \n",
      "\n",
      "When did Gregg Allman stop being the spouse of Cher (the one whose birth name is Cherilyn Sarkisian)? \n",
      " [{'function': 'Find', 'dependencies': [], 'inputs': ['Gregg Allman']}, {'function': 'Find', 'dependencies': [], 'inputs': ['Cher']}, {'function': 'FilterStr', 'dependencies': [1], 'inputs': ['birth name', 'Cherilyn Sarkisian']}, {'function': 'QueryRelationQualifier', 'dependencies': [0, 2], 'inputs': ['spouse', 'end time']}] \n",
      " ['1870', '1979', '2002-12-08', '1811-01-01', '2007-03-13', '1896-11-30', '1845-03-10', '1968', '1995-11-27', '2008-08-24'] \n",
      " 1979 \n",
      "\n",
      "How many towns' postal code is VLT and area is less than 530 square miles? \n",
      " [{'function': 'FindAll', 'dependencies': [], 'inputs': []}, {'function': 'FilterStr', 'dependencies': [0], 'inputs': ['postal code', 'VLT']}, {'function': 'FilterConcept', 'dependencies': [1], 'inputs': ['town']}, {'function': 'FindAll', 'dependencies': [], 'inputs': []}, {'function': 'FilterNum', 'dependencies': [3], 'inputs': ['area', '530 square mile', '<']}, {'function': 'FilterConcept', 'dependencies': [4], 'inputs': ['town']}, {'function': 'And', 'dependencies': [2, 5], 'inputs': []}, {'function': 'Count', 'dependencies': [6], 'inputs': []}] \n",
      " ['0', '1', '2', '3', '4', '5', '6', '7', '8', '9'] \n",
      " 0 \n",
      "\n",
      "What number of sovereign states have a population not equal to 7600000000? \n",
      " [{'function': 'FindAll', 'dependencies': [], 'inputs': []}, {'function': 'FilterNum', 'dependencies': [0], 'inputs': ['population', '7600000000', '!=']}, {'function': 'FilterConcept', 'dependencies': [1], 'inputs': ['sovereign state']}, {'function': 'Count', 'dependencies': [2], 'inputs': []}] \n",
      " ['145', '146', '147', '148', '149', '150', '151', '152', '153', '154'] \n",
      " 154 \n",
      "\n",
      "How many neighborhoods have a population not 500000000? \n",
      " [{'function': 'FindAll', 'dependencies': [], 'inputs': []}, {'function': 'FilterNum', 'dependencies': [0], 'inputs': ['population', '500000000', '!=']}, {'function': 'FilterConcept', 'dependencies': [1], 'inputs': ['neighborhood']}, {'function': 'Count', 'dependencies': [2], 'inputs': []}] \n",
      " ['5', '6', '7', '8', '9', '10', '11', '12', '13', '14'] \n",
      " 10 \n",
      "\n",
      "What is the academic degree Vladimir Nabokov achieved at Trinity College (the one that is the education place of George V) ? \n",
      " [{'function': 'Find', 'dependencies': [], 'inputs': ['Vladimir Nabokov']}, {'function': 'Find', 'dependencies': [], 'inputs': ['George V']}, {'function': 'Relate', 'dependencies': [1], 'inputs': ['educated at', 'forward']}, {'function': 'Find', 'dependencies': [], 'inputs': ['Trinity College']}, {'function': 'And', 'dependencies': [2, 3], 'inputs': []}, {'function': 'QueryRelationQualifier', 'dependencies': [0, 4], 'inputs': ['educated at', 'academic degree']}] \n",
      " ['Bachelor of Arts', 'Juris Doctor', \"bachelor's degree\", 'Master of Laws', 'Bachelor of Fine Arts', 'Doctor of Philosophy', 'Bachelor of Science', 'Bachelor of General Studies', 'Doctor of Medicine', 'doctorate'] \n",
      " Bachelor of Arts \n",
      "\n",
      "What is the Twitter username of the US city whose Dewey Decimal Classification is 2--797772 ? \n",
      " [{'function': 'FindAll', 'dependencies': [], 'inputs': []}, {'function': 'FilterStr', 'dependencies': [0], 'inputs': ['Dewey Decimal Classification', '2--797772']}, {'function': 'FilterConcept', 'dependencies': [1], 'inputs': ['city of the United States']}, {'function': 'QueryAttr', 'dependencies': [2], 'inputs': ['Twitter username']}] \n",
      " ['RealDeanCain', 'JamesBlunt', 'commonwealthsec', 'CityofSeattle', 'Greens', 'DwyaneWade', 'RealNoth', 'TheParraEels', 'Versailles_P_Q', 'camerondiaz'] \n",
      " CityofSeattle \n",
      "\n",
      "What is the edition number of the 63rd Golden Globe Awards? \n",
      " [{'function': 'Find', 'dependencies': [], 'inputs': ['63rd Golden Globe Awards']}, {'function': 'QueryAttr', 'dependencies': [0], 'inputs': ['edition number']}] \n",
      " ['1', '66', '42', '27', '63', '22', '37', '67', '24', '18'] \n",
      " 63 \n",
      "\n",
      "tell me the relationship between Speed which has the original language Hindi, and Hindi \n",
      " [{'function': 'Find', 'dependencies': [], 'inputs': ['Hindi']}, {'function': 'Relate', 'dependencies': [0], 'inputs': ['original language of film or TV show', 'backward']}, {'function': 'Find', 'dependencies': [], 'inputs': ['Speed']}, {'function': 'And', 'dependencies': [1, 2], 'inputs': []}, {'function': 'Find', 'dependencies': [], 'inputs': ['Hindi']}, {'function': 'QueryRelation', 'dependencies': [3, 4], 'inputs': []}] \n",
      " ['derivative work', 'production designer', 'home venue', 'original language of film or TV show', 'officially opened by', 'narrative location', 'has dialect (DEPRECATED)', 'programming language', 'mother', 'make-up artist'] \n",
      " original language of film or TV show \n",
      "\n",
      "Does the film, whose official website is http://www.lovelybones.com, have a duration greater than 60 minutes? \n",
      " [{'function': 'FindAll', 'dependencies': [], 'inputs': []}, {'function': 'FilterStr', 'dependencies': [0], 'inputs': ['official website', 'http://www.lovelybones.com']}, {'function': 'FilterConcept', 'dependencies': [1], 'inputs': ['film']}, {'function': 'QueryAttr', 'dependencies': [2], 'inputs': ['duration']}, {'function': 'VerifyNum', 'dependencies': [3], 'inputs': ['60 minute', '>']}] \n",
      " ['yes', 'no', 'unknown', 'unknown', 'unknown', 'unknown', 'unknown', 'unknown', 'unknown', 'unknown'] \n",
      " yes \n",
      "\n",
      "When did  Craig Rocastle stop being a member of Dover Athletic F.C.? \n",
      " [{'function': 'Find', 'dependencies': [], 'inputs': ['Craig Rocastle']}, {'function': 'Find', 'dependencies': [], 'inputs': ['Dover Athletic F.C.']}, {'function': 'QueryRelationQualifier', 'dependencies': [0, 1], 'inputs': ['member of sports team', 'end time']}] \n",
      " ['2010-03-01', '2009-01-01', '2005-05-13', '1946-07-27', '1538-02-23', '1918-03-11', '2017-06-05', '1697', '1904-11-23', '1936-04-19'] \n",
      " 2009-01-01 \n",
      "\n",
      "Regarding Paul (who influenced Thomas Aquinas), does he or she have the name John Kander in native language? \n",
      " [{'function': 'Find', 'dependencies': [], 'inputs': ['Thomas Aquinas']}, {'function': 'Relate', 'dependencies': [0], 'inputs': ['influenced by', 'forward']}, {'function': 'Find', 'dependencies': [], 'inputs': ['Paul']}, {'function': 'And', 'dependencies': [1, 2], 'inputs': []}, {'function': 'QueryAttr', 'dependencies': [3], 'inputs': ['name in native language']}, {'function': 'VerifyStr', 'dependencies': [4], 'inputs': ['John Kander']}] \n",
      " ['yes', 'no', 'unknown', 'unknown', 'unknown', 'unknown', 'unknown', 'unknown', 'unknown', 'unknown'] \n",
      " no \n",
      "\n",
      "How many keyboard instruments are used by Jim Jonsin \n",
      " [{'function': 'Find', 'dependencies': [], 'inputs': ['Jim Jonsin']}, {'function': 'Relate', 'dependencies': [0], 'inputs': ['instrument', 'forward']}, {'function': 'FilterConcept', 'dependencies': [1], 'inputs': ['keyboard instrument']}, {'function': 'Count', 'dependencies': [2], 'inputs': []}] \n",
      " ['0', '1', '2', '3', '4', '5', '6', '7', '8', '9'] \n",
      " 0 \n",
      "\n",
      "Is the inception time not in 1895 for the basketball team that has member Jack Thompson (whose height is 185 centimetres)? \n",
      " [{'function': 'Find', 'dependencies': [], 'inputs': ['Jack Thompson']}, {'function': 'FilterNum', 'dependencies': [0], 'inputs': ['height', '185 centimetre', '=']}, {'function': 'Relate', 'dependencies': [1], 'inputs': ['member of sports team', 'forward']}, {'function': 'FilterConcept', 'dependencies': [2], 'inputs': ['basketball team']}, {'function': 'QueryAttr', 'dependencies': [3], 'inputs': ['inception']}, {'function': 'VerifyYear', 'dependencies': [4], 'inputs': ['1895', '!=']}] \n",
      " ['yes', 'no', 'unknown', 'unknown', 'unknown', 'unknown', 'unknown', 'unknown', 'unknown', 'unknown'] \n",
      " yes \n",
      "\n",
      "How many industry computer languages are related to UNIX? \n",
      " [{'function': 'Find', 'dependencies': [], 'inputs': ['Unix']}, {'function': 'Relate', 'dependencies': [0], 'inputs': ['relative', 'backward']}, {'function': 'FilterConcept', 'dependencies': [1], 'inputs': ['industry']}, {'function': 'Relate', 'dependencies': [2], 'inputs': ['language of work or name', 'forward']}, {'function': 'FilterConcept', 'dependencies': [3], 'inputs': ['language']}, {'function': 'Count', 'dependencies': [4], 'inputs': []}] \n",
      " ['16', '17', '18', '19', '20', '21', '22', '23', '24', '25'] \n",
      " 21 \n",
      "\n",
      "Does X-Men: The Last Stand or I Love You Phillip Morris have the shorter runtime? \n",
      " [{'function': 'Find', 'dependencies': [], 'inputs': ['X-Men: The Last Stand']}, {'function': 'Find', 'dependencies': [], 'inputs': ['I Love You Phillip Morris']}, {'function': 'SelectBetween', 'dependencies': [0, 1], 'inputs': ['duration', 'less']}] \n",
      " ['Talk to Her', 'X-Men: The Last Stand', 'The Fifth Element', 'A Prairie Home Companion', 'Pleasantville', 'Training Day', 'I Love You Phillip Morris', 'Curse of the Golden Flower', 'The Towering Inferno', 'The Hunchback of Notre Dame'] \n",
      " I Love You Phillip Morris \n",
      "\n",
      "What language pertains to the http://www.gene.com website regarding the agent with a 0000 0004 0465 1775 ISNI? \n",
      " [{'function': 'FindAll', 'dependencies': [], 'inputs': []}, {'function': 'FilterStr', 'dependencies': [0], 'inputs': ['ISNI', '0000 0004 0465 1775']}, {'function': 'FilterConcept', 'dependencies': [1], 'inputs': ['agent']}, {'function': 'QueryAttrQualifier', 'dependencies': [2], 'inputs': ['official website', 'http://www.gene.com/', 'language of work or name']}] \n",
      " ['Occitan', 'Bulgarian', 'Belarusian', 'Hebrew', 'Czech', 'Tlingit', 'Turkish', 'Azerbaijani', 'English', 'Estonian'] \n",
      " English \n",
      "\n",
      "Rosarino is the demonym of which city? \n",
      " [{'function': 'FindAll', 'dependencies': [], 'inputs': []}, {'function': 'FilterStr', 'dependencies': [0], 'inputs': ['demonym', 'Rosarino']}, {'function': 'FilterConcept', 'dependencies': [1], 'inputs': ['city']}, {'function': 'What', 'dependencies': [2], 'inputs': []}] \n",
      " ['Kingston', 'Trieste', 'Brisbane', 'Kilkenny', 'Rosario', 'Bergen', 'Dhaka', 'Quito', 'Rotterdam', 'Hong Kong'] \n",
      " Rosario \n",
      "\n",
      "Among the feature films with a publication date after 2003, which one has the smallest duration? \n",
      " [{'function': 'FindAll', 'dependencies': [], 'inputs': []}, {'function': 'FilterYear', 'dependencies': [0], 'inputs': ['publication date', '2003', '>']}, {'function': 'FilterConcept', 'dependencies': [1], 'inputs': ['feature film']}, {'function': 'SelectAmong', 'dependencies': [2], 'inputs': ['duration', 'smallest']}] \n",
      " ['Alice in Wonderland', \"Pirates of the Caribbean: Dead Man's Chest\", 'Wallace & Gromit: The Curse of the Were-Rabbit', 'Bedtime Stories', 'Secretariat', \"The Sorcerer's Apprentice\", 'Enchanted', 'Old Dogs', 'Harry Potter and the Prisoner of Azkaban', 'Prince of Persia: The Sands of Time'] \n",
      " Wallace & Gromit: The Curse of the Were-Rabbit \n",
      "\n",
      "What video game genre has the OLAC video game genre vocabulary ID 1065 and the IAB code 689? \n",
      " [{'function': 'FindAll', 'dependencies': [], 'inputs': []}, {'function': 'FilterStr', 'dependencies': [0], 'inputs': ['OLAC video game genre vocabulary', '1065']}, {'function': 'FilterConcept', 'dependencies': [1], 'inputs': ['video game genre']}, {'function': 'FindAll', 'dependencies': [], 'inputs': []}, {'function': 'FilterStr', 'dependencies': [3], 'inputs': ['IAB code', '689']}, {'function': 'FilterConcept', 'dependencies': [4], 'inputs': ['video game genre']}, {'function': 'And', 'dependencies': [2, 5], 'inputs': []}, {'function': 'What', 'dependencies': [6], 'inputs': []}] \n",
      " ['sports video game', 'Edward Scissorhands', 'The Avengers', 'F.K. Vojvodina', 'Kevin Betsy', 'massively multiplayer online game', 'Rob Paulsen', 'life simulation game', 'Peter Ustinov', 'Jammu and Kashmir'] \n",
      " sports video game \n",
      "\n",
      "Which has fewer seasons, Twin Peaks (the one that has Jim Belushi as a cast member) or The Office (the one that has Martin Freeman as a cast member)? \n",
      " [{'function': 'Find', 'dependencies': [], 'inputs': ['Jim Belushi']}, {'function': 'Relate', 'dependencies': [0], 'inputs': ['cast member', 'backward']}, {'function': 'Find', 'dependencies': [], 'inputs': ['Twin Peaks']}, {'function': 'And', 'dependencies': [1, 2], 'inputs': []}, {'function': 'Find', 'dependencies': [], 'inputs': ['Martin Freeman']}, {'function': 'Relate', 'dependencies': [4], 'inputs': ['cast member', 'backward']}, {'function': 'Find', 'dependencies': [], 'inputs': ['The Office']}, {'function': 'And', 'dependencies': [5, 6], 'inputs': []}, {'function': 'SelectBetween', 'dependencies': [3, 7], 'inputs': ['number of seasons', 'less']}] \n",
      " ['Game of Thrones', 'Bleak House', 'Robot Chicken', 'Dancing with the Stars', 'Phineas and Ferb', 'American Horror Story', 'Seinfeld', 'The Office', \"Saturday Night's Main Event\", 'Twin Peaks'] \n",
      " Twin Peaks \n",
      "\n",
      "Tell me the person who is the screenwriter of Pleasantville  (the one that has Don Knotts as a cast member) \n",
      " [{'function': 'Find', 'dependencies': [], 'inputs': ['Don Knotts']}, {'function': 'Relate', 'dependencies': [0], 'inputs': ['cast member', 'backward']}, {'function': 'Find', 'dependencies': [], 'inputs': ['Pleasantville']}, {'function': 'And', 'dependencies': [1, 2], 'inputs': []}, {'function': 'Relate', 'dependencies': [3], 'inputs': ['screenwriter', 'forward']}, {'function': 'FilterConcept', 'dependencies': [4], 'inputs': ['human']}, {'function': 'What', 'dependencies': [5], 'inputs': []}] \n",
      " ['Richard Gere', 'Simon Cowell', 'William Henry Harrison', 'Sylvester Stallone', 'David Boreanaz', 'David Byrne', 'Rahul Dev Burman', 'Bruce Campbell', 'Gary Ross', 'Stephen Jackson'] \n",
      " Gary Ross \n",
      "\n",
      "What is the ISNI of John Broome (the one born in 1738-01-01)? \n",
      " [{'function': 'Find', 'dependencies': [], 'inputs': ['John Broome']}, {'function': 'FilterDate', 'dependencies': [0], 'inputs': ['date of birth', '1738-01-01', '=']}, {'function': 'QueryAttr', 'dependencies': [1], 'inputs': ['ISNI']}] \n",
      " ['0000 0004 1346 0903', '0000 0000 8195 9264', '0000 0004 0546 0241', '0000 0000 7104 540X', '0000 0001 2324 2350', '0000 0001 0909 4902', '0000 0000 2418 823X', '0000 0000 4725 9504', '0000 0004 1724 0430', '0000 0000 8057 3853'] \n",
      " 0000 0000 2418 823X \n",
      "\n",
      "Who was educated at Phillips Exeter Academy and that has the occupation of lawyer ? \n",
      " [{'function': 'Find', 'dependencies': [], 'inputs': ['Phillips Exeter Academy']}, {'function': 'Relate', 'dependencies': [0], 'inputs': ['educated at', 'backward']}, {'function': 'FilterConcept', 'dependencies': [1], 'inputs': ['human']}, {'function': 'Find', 'dependencies': [], 'inputs': ['lawyer']}, {'function': 'Relate', 'dependencies': [3], 'inputs': ['occupation', 'backward']}, {'function': 'FilterConcept', 'dependencies': [4], 'inputs': ['human']}, {'function': 'And', 'dependencies': [2, 5], 'inputs': []}, {'function': 'What', 'dependencies': [6], 'inputs': []}] \n",
      " ['Lewis Cass', 'John Williams', 'Bill Nelson', 'John Irving', 'Edward Fox', 'Greg Daniels', 'Andrea Bocelli', 'John Milton', 'Robert Smith', 'Arthur Freed'] \n",
      " Edward Fox \n",
      "\n",
      "What language is http://sydneyolympicfc.com.au, the official website of an association football club whose Instagram username is sofc1957? \n",
      " [{'function': 'FindAll', 'dependencies': [], 'inputs': []}, {'function': 'FilterStr', 'dependencies': [0], 'inputs': ['Instagram username', 'sofc1957']}, {'function': 'FilterConcept', 'dependencies': [1], 'inputs': ['association football club']}, {'function': 'QueryAttrQualifier', 'dependencies': [2], 'inputs': ['official website', 'http://sydneyolympicfc.com.au/', 'language of work or name']}] \n",
      " ['German', 'English', 'Australian English', 'Indian English', 'multiple languages', 'Ukrainian', 'Bokmål', 'Turkish', 'Navajo', 'Latin'] \n",
      " English \n",
      "\n",
      "What number of National Basketball Association Drafts took place after 2006? \n",
      " [{'function': 'FindAll', 'dependencies': [], 'inputs': []}, {'function': 'FilterYear', 'dependencies': [0], 'inputs': ['point in time', '2006', '>']}, {'function': 'FilterConcept', 'dependencies': [1], 'inputs': ['National Basketball Association Draft']}, {'function': 'Count', 'dependencies': [2], 'inputs': []}] \n",
      " ['0', '1', '2', '3', '4', '5', '6', '7', '8', '9'] \n",
      " 2 \n",
      "\n",
      "What place has less area, Huntsville or Poughkeepsie? \n",
      " [{'function': 'Find', 'dependencies': [], 'inputs': ['Huntsville']}, {'function': 'Find', 'dependencies': [], 'inputs': ['Poughkeepsie']}, {'function': 'SelectBetween', 'dependencies': [0, 1], 'inputs': ['area', 'less']}] \n",
      " ['Columbus', 'Boulder', 'New Haven', 'Compton', 'Poughkeepsie', 'Greenville', 'Franklin', 'Lansing', 'Oakland', 'Waukegan'] \n",
      " Poughkeepsie \n",
      "\n",
      "What is the publication date of Medal of Honor (the one whose distribution format is DVD) ? \n",
      " [{'function': 'Find', 'dependencies': [], 'inputs': ['DVD']}, {'function': 'Relate', 'dependencies': [0], 'inputs': ['distribution', 'backward']}, {'function': 'Find', 'dependencies': [], 'inputs': ['Medal of Honor']}, {'function': 'And', 'dependencies': [1, 2], 'inputs': []}, {'function': 'QueryAttr', 'dependencies': [3], 'inputs': ['publication date']}] \n",
      " ['2008-03-13', '2004-05-15', '2006-03-02', '2011-03-01', '2010-10-12', '1865-01-01', '1991-11-15', '2005-04-21', '1959-09-17', '1992'] \n",
      " 2010-10-12 \n",
      "\n",
      "Did Batman Begins released in Italy or Tootsie cost less? \n",
      " [{'function': 'Find', 'dependencies': [], 'inputs': ['Italy']}, {'function': 'Relate', 'dependencies': [0], 'inputs': ['film release region', 'backward']}, {'function': 'Find', 'dependencies': [], 'inputs': ['Batman Begins']}, {'function': 'And', 'dependencies': [1, 2], 'inputs': []}, {'function': 'Find', 'dependencies': [], 'inputs': ['Tootsie']}, {'function': 'SelectBetween', 'dependencies': [3, 4], 'inputs': ['cost', 'less']}] \n",
      " ['Rebecca', 'Pleasantville', 'Training Day', 'A Prairie Home Companion', 'The Towering Inferno', 'Batman Begins', 'The Hunchback of Notre Dame', 'Tootsie', 'The Fifth Element', 'Curse of the Golden Flower'] \n",
      " Tootsie \n",
      "\n",
      "What is LeVar Burton's role in Star Trek: First Contact? \n",
      " [{'function': 'Find', 'dependencies': [], 'inputs': ['Star Trek: First Contact']}, {'function': 'Find', 'dependencies': [], 'inputs': ['LeVar Burton']}, {'function': 'QueryRelationQualifier', 'dependencies': [0, 1], 'inputs': ['cast member', 'character role']}] \n",
      " ['Mia Dolan', 'Menelaus', 'Mufasa', 'David Alfaro Siqueiros', 'Ann Perkins', 'Geordi La Forge', 'David Pratt', 'Paulette', 'Hector', 'War Doctor'] \n",
      " Geordi La Forge \n",
      "\n",
      "What is the Iconclass notation of treasurer? \n",
      " [{'function': 'Find', 'dependencies': [], 'inputs': ['treasurer']}, {'function': 'QueryAttr', 'dependencies': [0], 'inputs': ['Iconclass notation']}] \n",
      " ['49E1', '48A831', '12H13(BUDDHA)', '49I', '43C4124', '49G64', '14A', '46C156', '46A613', '41B152'] \n",
      " 46A613 \n",
      "\n",
      "Which is longer, Sherlock Holmes published on 1932-01-01 or Gulliver's Travels produced by Paramount Pictures? \n",
      " [{'function': 'Find', 'dependencies': [], 'inputs': ['Sherlock Holmes']}, {'function': 'FilterDate', 'dependencies': [0], 'inputs': ['publication date', '1932-01-01', '=']}, {'function': 'Find', 'dependencies': [], 'inputs': ['Paramount Pictures']}, {'function': 'Relate', 'dependencies': [2], 'inputs': ['production company', 'backward']}, {'function': 'Find', 'dependencies': [], 'inputs': [\"Gulliver's Travels\"]}, {'function': 'And', 'dependencies': [3, 4], 'inputs': []}, {'function': 'SelectBetween', 'dependencies': [1, 5], 'inputs': ['duration', 'greater']}] \n",
      " [\"Gulliver's Travels\", 'Code Geass', 'Superman', 'Anastasia', 'My-HiME', 'Ponyo on the Cliff by the Sea', 'Sherlock Holmes', 'A Christmas Carol', 'The Polar Express', 'Magic Knight Rayearth'] \n",
      " Gulliver's Travels \n",
      "\n",
      "Were the Hamilton Tiger-Cats founded after 1958? \n",
      " [{'function': 'Find', 'dependencies': [], 'inputs': ['Hamilton Tiger-Cats']}, {'function': 'QueryAttr', 'dependencies': [0], 'inputs': ['inception']}, {'function': 'VerifyYear', 'dependencies': [1], 'inputs': ['1958', '>']}] \n",
      " ['yes', 'no', 'unknown', 'unknown', 'unknown', 'unknown', 'unknown', 'unknown', 'unknown', 'unknown'] \n",
      " no \n",
      "\n",
      "What is the series ordinal of Hercules that features Paul Shaffer as a voice actor and whose composer is Alan Menken? \n",
      " [{'function': 'Find', 'dependencies': [], 'inputs': ['Alan Menken']}, {'function': 'Relate', 'dependencies': [0], 'inputs': ['composer', 'backward']}, {'function': 'Find', 'dependencies': [], 'inputs': ['Hercules']}, {'function': 'And', 'dependencies': [1, 2], 'inputs': []}, {'function': 'Find', 'dependencies': [], 'inputs': ['Paul Shaffer']}, {'function': 'QueryRelationQualifier', 'dependencies': [3, 4], 'inputs': ['voice actor', 'series ordinal']}] \n",
      " ['44', '19', '7', '16', '95', '18', '43', '22', '39', '41'] \n",
      " 22 \n",
      "\n",
      "When did the California county that has the capital Redding have a population of 177284? \n",
      " [{'function': 'Find', 'dependencies': [], 'inputs': ['Redding']}, {'function': 'Relate', 'dependencies': [0], 'inputs': ['capital of', 'forward']}, {'function': 'FilterConcept', 'dependencies': [1], 'inputs': ['county of California']}, {'function': 'QueryAttrQualifier', 'dependencies': [2], 'inputs': ['population', '177284', 'point in time']}] \n",
      " ['2000-12-20', '2011-06-22', '2010-07-01', '1858-01-01', '2020', '1936-12-01', '2006', '1945-01-01', '2013-12-28', '1965-04-13'] \n",
      " 2010-07-01 \n",
      "\n",
      "Which movie made more at the box office, Unstoppable (the one whose release region is United States of America) or You Don't Mess with the Zohan? \n",
      " [{'function': 'Find', 'dependencies': [], 'inputs': ['United States of America']}, {'function': 'Relate', 'dependencies': [0], 'inputs': ['film release region', 'backward']}, {'function': 'Find', 'dependencies': [], 'inputs': ['Unstoppable']}, {'function': 'And', 'dependencies': [1, 2], 'inputs': []}, {'function': 'Find', 'dependencies': [], 'inputs': [\"You Don't Mess with the Zohan\"]}, {'function': 'SelectBetween', 'dependencies': [3, 4], 'inputs': ['box office', 'greater']}] \n",
      " ['The Fifth Element', 'A Prairie Home Companion', 'Rebecca', 'The Hunchback of Notre Dame', 'Unstoppable', 'Training Day', 'The Towering Inferno', 'Curse of the Golden Flower', \"You Don't Mess with the Zohan\", 'Talk to Her'] \n",
      " You Don't Mess with the Zohan \n",
      "\n",
      "September, born as Petra Linnea Paula Marklund, has which birth city? \n",
      " [{'function': 'Find', 'dependencies': [], 'inputs': ['September']}, {'function': 'FilterStr', 'dependencies': [0], 'inputs': ['birth name', 'Petra Linnea Paula Marklund']}, {'function': 'Relate', 'dependencies': [1], 'inputs': ['place of birth', 'forward']}, {'function': 'FilterConcept', 'dependencies': [2], 'inputs': ['city']}, {'function': 'What', 'dependencies': [3], 'inputs': []}] \n",
      " ['Abidjan', 'Bergen', 'Havana', 'Santo Domingo', 'Cork', 'Kampala', 'Shiraz', 'Stockholm', 'Trieste', 'Kilkenny'] \n",
      " Stockholm \n",
      "\n",
      "Is the height of Iron Man, which is a significant work from John Romita Jr., higher than 1.7 metres? \n",
      " [{'function': 'Find', 'dependencies': [], 'inputs': ['John Romita Jr.']}, {'function': 'Relate', 'dependencies': [0], 'inputs': ['notable work', 'forward']}, {'function': 'Find', 'dependencies': [], 'inputs': ['Iron Man']}, {'function': 'And', 'dependencies': [1, 2], 'inputs': []}, {'function': 'QueryAttr', 'dependencies': [3], 'inputs': ['height']}, {'function': 'VerifyNum', 'dependencies': [4], 'inputs': ['1.7 metre', '>']}] \n",
      " ['yes', 'no', 'unknown', 'unknown', 'unknown', 'unknown', 'unknown', 'unknown', 'unknown', 'unknown'] \n",
      " yes \n",
      "\n",
      "Does Pierce County that is located in Washington or Grays Harbor County have less area? \n",
      " [{'function': 'Find', 'dependencies': [], 'inputs': ['Washington']}, {'function': 'Relate', 'dependencies': [0], 'inputs': ['located in the administrative territorial entity', 'backward']}, {'function': 'Find', 'dependencies': [], 'inputs': ['Pierce County']}, {'function': 'And', 'dependencies': [1, 2], 'inputs': []}, {'function': 'Find', 'dependencies': [], 'inputs': ['Grays Harbor County']}, {'function': 'SelectBetween', 'dependencies': [3, 4], 'inputs': ['area', 'less']}] \n",
      " ['San Juan County', 'Whatcom County', 'King County', 'Snohomish County', 'Okanogan County', 'Douglas County', 'Yakima County', 'Grays Harbor County', 'Pierce County', 'Clark County'] \n",
      " Pierce County \n",
      "\n",
      "What is the relationship between Frankenstein (the one whose genre is romance film) and Switzerland? \n",
      " [{'function': 'Find', 'dependencies': [], 'inputs': ['romance film']}, {'function': 'Relate', 'dependencies': [0], 'inputs': ['genre', 'backward']}, {'function': 'Find', 'dependencies': [], 'inputs': ['Frankenstein']}, {'function': 'And', 'dependencies': [1, 2], 'inputs': []}, {'function': 'Find', 'dependencies': [], 'inputs': ['Switzerland']}, {'function': 'QueryRelation', 'dependencies': [3, 4], 'inputs': []}] \n",
      " ['eye color', 'costume designer', 'material used', 'exclave of', 'commander of', 'filming location', 'health specialty', 'territory claimed by', 'licensed to broadcast to', 'depicts'] \n",
      " filming location \n",
      "\n",
      "Is the nominal GDP of Guinea-Bissau over 69000000 United States dollars on the date 1996-01-01? \n",
      " [{'function': 'Find', 'dependencies': [], 'inputs': ['Guinea-Bissau']}, {'function': 'QueryAttrUnderCondition', 'dependencies': [0], 'inputs': ['nominal GDP', 'point in time', '1996-01-01']}, {'function': 'VerifyNum', 'dependencies': [1], 'inputs': ['69000000 United States dollar', '>']}] \n",
      " ['yes', 'no', 'unknown', 'unknown', 'unknown', 'unknown', 'unknown', 'unknown', 'unknown', 'unknown'] \n",
      " yes \n",
      "\n",
      "What is the connection between Carlos Ruiz (the one that is a member of Puebla F.C.) to Puebla F.C.? \n",
      " [{'function': 'Find', 'dependencies': [], 'inputs': ['Puebla F.C.']}, {'function': 'Relate', 'dependencies': [0], 'inputs': ['member of sports team', 'backward']}, {'function': 'Find', 'dependencies': [], 'inputs': ['Carlos Ruiz']}, {'function': 'And', 'dependencies': [1, 2], 'inputs': []}, {'function': 'Find', 'dependencies': [], 'inputs': ['Puebla F.C.']}, {'function': 'QueryRelation', 'dependencies': [3, 4], 'inputs': []}] \n",
      " ['official religion', 'headquarters location', 'original film format', 'officeholder', 'member of sports team', 'interested in', 'grants', 'collection', 'takes place in fictional universe', 'affiliation'] \n",
      " member of sports team \n",
      "\n",
      "Was the movie titled Red Dragon released later than 2001 in Germany? \n",
      " [{'function': 'FindAll', 'dependencies': [], 'inputs': []}, {'function': 'FilterStr', 'dependencies': [0], 'inputs': ['title', 'Red Dragon']}, {'function': 'FilterConcept', 'dependencies': [1], 'inputs': ['film']}, {'function': 'QueryAttrUnderCondition', 'dependencies': [2], 'inputs': ['publication date', 'place of publication', 'Germany']}, {'function': 'VerifyYear', 'dependencies': [3], 'inputs': ['2001', '>']}] \n",
      " ['yes', 'no', 'unknown', 'unknown', 'unknown', 'unknown', 'unknown', 'unknown', 'unknown', 'unknown'] \n",
      " yes \n",
      "\n",
      "What did Kelly Rowland share the Grammy Award for Best Rap/Sung Performance with? \n",
      " [{'function': 'Find', 'dependencies': [], 'inputs': ['Kelly Rowland']}, {'function': 'Find', 'dependencies': [], 'inputs': ['Grammy Award for Best Rap/Sung Performance']}, {'function': 'QueryRelationQualifier', 'dependencies': [0, 1], 'inputs': ['award received', 'together with']}] \n",
      " ['Michael Stewart', 'Eve', 'Janet Jackson', 'David Zippel', 'Itaal Shur', 'Nelly', 'Frank Ocean', 'Jay-Z', 'Carolyn Leigh', 'Dianne Wiest'] \n",
      " Nelly \n",
      "\n",
      "Is the elevation above sea level for the capital city of Guyana less than 130 meters? \n",
      " [{'function': 'Find', 'dependencies': [], 'inputs': ['Guyana']}, {'function': 'Relate', 'dependencies': [0], 'inputs': ['capital of', 'backward']}, {'function': 'FilterConcept', 'dependencies': [1], 'inputs': ['city']}, {'function': 'QueryAttr', 'dependencies': [2], 'inputs': ['elevation above sea level']}, {'function': 'VerifyNum', 'dependencies': [3], 'inputs': ['130 metre', '<']}] \n",
      " ['yes', 'no', 'unknown', 'unknown', 'unknown', 'unknown', 'unknown', 'unknown', 'unknown', 'unknown'] \n",
      " yes \n",
      "\n",
      "What is the connection between Touchstone Pictures to Walt Disney Studios Motion Pictures? \n",
      " [{'function': 'Find', 'dependencies': [], 'inputs': ['Touchstone Pictures']}, {'function': 'Find', 'dependencies': [], 'inputs': ['Walt Disney Studios Motion Pictures']}, {'function': 'QueryRelation', 'dependencies': [0, 1], 'inputs': []}] \n",
      " ['derivative work', 'convicted of', 'organisation directed from the office or person', 'member of political party', 'officially opened by', 'continent', 'parent organization', 'publisher', 'business division', 'film editor'] \n",
      " parent organization \n",
      "\n",
      "Which administrative territorial entity occupying over 270 square km has Davenport as its capital? \n",
      " [{'function': 'FindAll', 'dependencies': [], 'inputs': []}, {'function': 'FilterNum', 'dependencies': [0], 'inputs': ['area', '270 square kilometre', '>']}, {'function': 'FilterConcept', 'dependencies': [1], 'inputs': ['administrative territorial entity']}, {'function': 'Find', 'dependencies': [], 'inputs': ['Davenport']}, {'function': 'Relate', 'dependencies': [3], 'inputs': ['capital', 'backward']}, {'function': 'FilterConcept', 'dependencies': [4], 'inputs': ['administrative territorial entity']}, {'function': 'And', 'dependencies': [2, 5], 'inputs': []}, {'function': 'What', 'dependencies': [6], 'inputs': []}] \n",
      " ['Merrimack County', 'Orange County', 'Pulaski County', 'Falkirk', 'African Union', 'Washoe County', 'Cobb County', 'Kent County', 'West Java', 'Scott County'] \n",
      " Scott County \n",
      "\n",
      "What is the publication region of the film whose official website is http://constantinemovie.warnerbros.com/ and release date is 2005-02-17? \n",
      " [{'function': 'FindAll', 'dependencies': [], 'inputs': []}, {'function': 'FilterStr', 'dependencies': [0], 'inputs': ['official website', 'http://constantinemovie.warnerbros.com/']}, {'function': 'FilterConcept', 'dependencies': [1], 'inputs': ['film']}, {'function': 'QueryAttrQualifier', 'dependencies': [2], 'inputs': ['publication date', '2005-02-17', 'place of publication']}] \n",
      " ['European Union', 'Sundance Film Festival', 'Germany', 'Central Park', 'Hong Kong', 'BFI London Film Festival', 'New York', 'Austria', 'South Korea', 'Tokyo'] \n",
      " Germany \n",
      "\n",
      "Who is the person that is Kylie Minogue's sibling? \n",
      " [{'function': 'Find', 'dependencies': [], 'inputs': ['Kylie Minogue']}, {'function': 'Relate', 'dependencies': [0], 'inputs': ['sibling', 'backward']}, {'function': 'FilterConcept', 'dependencies': [1], 'inputs': ['human']}, {'function': 'What', 'dependencies': [2], 'inputs': []}] \n",
      " ['Rick Baker', 'John Carpenter', 'Bobby', 'Sylvester Stallone', 'Max Fleischer', 'Michael Jackson', 'Richard Gere', 'William Henry Harrison', 'Shirley MacLaine', 'Dannii Minogue'] \n",
      " Dannii Minogue \n",
      "\n",
      "How many public educational institutions of the United States are located in Lexington (whose establishment date is in 1777) and are the educational site of Michael Collins whose occupation is military officer? \n",
      " [{'function': 'Find', 'dependencies': [], 'inputs': ['Lexington']}, {'function': 'FilterYear', 'dependencies': [0], 'inputs': ['inception', '1777', '=']}, {'function': 'Relate', 'dependencies': [1], 'inputs': ['located in the administrative territorial entity', 'backward']}, {'function': 'FilterConcept', 'dependencies': [2], 'inputs': ['public educational institution of the United States']}, {'function': 'Find', 'dependencies': [], 'inputs': ['military officer']}, {'function': 'Relate', 'dependencies': [4], 'inputs': ['occupation', 'backward']}, {'function': 'Find', 'dependencies': [], 'inputs': ['Michael Collins']}, {'function': 'And', 'dependencies': [5, 6], 'inputs': []}, {'function': 'Relate', 'dependencies': [7], 'inputs': ['educated at', 'forward']}, {'function': 'FilterConcept', 'dependencies': [8], 'inputs': ['public educational institution of the United States']}, {'function': 'And', 'dependencies': [3, 9], 'inputs': []}, {'function': 'Count', 'dependencies': [10], 'inputs': []}] \n",
      " ['0', '1', '2', '3', '4', '5', '6', '7', '8', '9'] \n",
      " 0 \n",
      "\n",
      "How many scientists have the same occupation as the person who has an official website found at http://www.rogerdmoore.ca? \n",
      " [{'function': 'FindAll', 'dependencies': [], 'inputs': []}, {'function': 'FilterStr', 'dependencies': [0], 'inputs': ['official website', 'http://www.rogerdmoore.ca']}, {'function': 'FilterConcept', 'dependencies': [1], 'inputs': ['human']}, {'function': 'Relate', 'dependencies': [2], 'inputs': ['occupation', 'forward']}, {'function': 'FilterConcept', 'dependencies': [3], 'inputs': ['scientist']}, {'function': 'Count', 'dependencies': [4], 'inputs': []}] \n",
      " ['0', '1', '2', '3', '4', '5', '6', '7', '8', '9'] \n",
      " 1 \n",
      "\n",
      "Does the Twitter username johnmturturro belong to the Golden State Warriors? \n",
      " [{'function': 'Find', 'dependencies': [], 'inputs': ['Golden State Warriors']}, {'function': 'QueryAttr', 'dependencies': [0], 'inputs': ['Twitter username']}, {'function': 'VerifyStr', 'dependencies': [1], 'inputs': ['johnmturturro']}] \n",
      " ['yes', 'no', 'unknown', 'unknown', 'unknown', 'unknown', 'unknown', 'unknown', 'unknown', 'unknown'] \n",
      " no \n",
      "\n",
      "What large city is the twinned administrative body of Liverpool (whose population is 513441), having a start date in the year 1952? \n",
      " [{'function': 'Find', 'dependencies': [], 'inputs': ['Liverpool']}, {'function': 'FilterNum', 'dependencies': [0], 'inputs': ['population', '513441', '=']}, {'function': 'Relate', 'dependencies': [1], 'inputs': ['twinned administrative body', 'backward']}, {'function': 'QFilterYear', 'dependencies': [2], 'inputs': ['start time', '1952', '=']}, {'function': 'FilterConcept', 'dependencies': [3], 'inputs': ['big city']}, {'function': 'What', 'dependencies': [4], 'inputs': []}] \n",
      " ['Regensburg', 'Wuppertal', 'Halle (Saale)', 'Lyon', 'Fort Smith', 'Utrecht', 'Stuttgart', 'Bordeaux', 'Dnipro', 'Cologne'] \n",
      " Cologne \n",
      "\n",
      "Which movie is longer, The Chronicles of Narnia: The Voyage of the Dawn Treader (the one that has Simon Pegg as a cast member) or The Brothers Bloom? \n",
      " [{'function': 'Find', 'dependencies': [], 'inputs': ['Simon Pegg']}, {'function': 'Relate', 'dependencies': [0], 'inputs': ['cast member', 'backward']}, {'function': 'Find', 'dependencies': [], 'inputs': ['The Chronicles of Narnia: The Voyage of the Dawn Treader']}, {'function': 'And', 'dependencies': [1, 2], 'inputs': []}, {'function': 'Find', 'dependencies': [], 'inputs': ['The Brothers Bloom']}, {'function': 'SelectBetween', 'dependencies': [3, 4], 'inputs': ['duration', 'greater']}] \n",
      " ['Training Day', 'Talk to Her', 'Pleasantville', 'The Brothers Bloom', 'Rebecca', 'The Towering Inferno', 'The Chronicles of Narnia: The Voyage of the Dawn Treader', 'A Prairie Home Companion', 'The Fifth Element', 'The Hunchback of Notre Dame'] \n",
      " The Chronicles of Narnia: The Voyage of the Dawn Treader \n",
      "\n",
      "Tell me the one with a smaller duration, Love Story  (which is entititled Una storia d'amore) or full Metal Jacket. \n",
      " [{'function': 'Find', 'dependencies': [], 'inputs': ['Love Story']}, {'function': 'FilterStr', 'dependencies': [0], 'inputs': ['title', \"Una storia d'amore\"]}, {'function': 'Find', 'dependencies': [], 'inputs': ['Full Metal Jacket']}, {'function': 'SelectBetween', 'dependencies': [1, 2], 'inputs': ['duration', 'less']}] \n",
      " ['Pleasantville', 'Talk to Her', 'The Fifth Element', 'Rebecca', 'Curse of the Golden Flower', 'Love Story', 'Training Day', 'The Hunchback of Notre Dame', 'The Towering Inferno', 'Full Metal Jacket'] \n",
      " Love Story \n",
      "\n",
      "Which is shorter, Velvet Goldmine or The Great Gatsby starring Robert Redford? \n",
      " [{'function': 'Find', 'dependencies': [], 'inputs': ['Velvet Goldmine']}, {'function': 'Find', 'dependencies': [], 'inputs': ['Robert Redford']}, {'function': 'Relate', 'dependencies': [1], 'inputs': ['cast member', 'backward']}, {'function': 'Find', 'dependencies': [], 'inputs': ['The Great Gatsby']}, {'function': 'And', 'dependencies': [2, 3], 'inputs': []}, {'function': 'SelectBetween', 'dependencies': [0, 4], 'inputs': ['duration', 'less']}] \n",
      " ['The Great Gatsby', 'Rebecca', 'The Fifth Element', 'A Prairie Home Companion', 'Velvet Goldmine', 'Training Day', 'Pleasantville', 'The Towering Inferno', 'Curse of the Golden Flower', 'The Hunchback of Notre Dame'] \n",
      " Velvet Goldmine \n",
      "\n",
      "Rocco and His Brothers is related in what way to Nino Rota? \n",
      " [{'function': 'Find', 'dependencies': [], 'inputs': ['Rocco and His Brothers']}, {'function': 'Find', 'dependencies': [], 'inputs': ['Nino Rota']}, {'function': 'QueryRelation', 'dependencies': [0, 1], 'inputs': []}] \n",
      " ['voice actor', 'military casualty classification', 'composer', 'partially contains', 'found', 'discoverer or inventor', 'currency', 'operating area', 'doctoral advisor', 'permanent resident of'] \n",
      " composer \n",
      "\n",
      "Which higher education institution located in the Netherlands has the official website http://www.leiden.nl/? \n",
      " [{'function': 'FindAll', 'dependencies': [], 'inputs': []}, {'function': 'FilterStr', 'dependencies': [0], 'inputs': ['official website', 'http://www.leiden.nl/']}, {'function': 'FilterConcept', 'dependencies': [1], 'inputs': ['municipality of the Netherlands']}, {'function': 'Relate', 'dependencies': [2], 'inputs': ['headquarters location', 'backward']}, {'function': 'QFilterStr', 'dependencies': [3], 'inputs': ['country', 'Netherlands']}, {'function': 'FilterConcept', 'dependencies': [4], 'inputs': ['higher education institution']}, {'function': 'What', 'dependencies': [5], 'inputs': []}] \n",
      " ['University of Manchester', 'Leiden University', 'Pennsylvania State University', 'McNeese State University', 'Imperial College London', \"King's College London\", 'McMaster University', 'Panjab University', 'University of Melbourne', 'University of Tehran'] \n",
      " Leiden University \n",
      "\n",
      "What is the ISNI for Claire Forlani? \n",
      " [{'function': 'Find', 'dependencies': [], 'inputs': ['Claire Forlani']}, {'function': 'QueryAttr', 'dependencies': [0], 'inputs': ['ISNI']}] \n",
      " ['0000 0001 1765 3030', '0000 0001 0907 8283', '0000 0001 2176 8252', '0000 0001 1448 5553', '0000 0001 0859 0242', '0000 0004 0647 9083', '0000 0000 8904 8780', '0000 0000 7359 6854', '0000 0001 2122 1863', '0000 0000 8897 060X'] \n",
      " 0000 0001 0859 0242 \n",
      "\n",
      "For which work was Fred Astaire awarded the BAFTA Award for Best Actor in a Supporting Role? \n",
      " [{'function': 'Find', 'dependencies': [], 'inputs': ['BAFTA Award for Best Actor in a Supporting Role']}, {'function': 'Find', 'dependencies': [], 'inputs': ['Fred Astaire']}, {'function': 'QueryRelationQualifier', 'dependencies': [0, 1], 'inputs': ['winner', 'for work']}] \n",
      " ['Aradhana', 'In the Mood for Love', 'The Towering Inferno', 'The Borderland of Sol', 'Adventure', 'Ben-Hur', 'Air Force One', 'Judy at Carnegie Hall', 'Here Comes the Navy', 'Jezebel'] \n",
      " The Towering Inferno \n",
      "\n",
      "When did Tom Johnson (the one that is educated at Harvard University) stop being an employee of CNN? \n",
      " [{'function': 'Find', 'dependencies': [], 'inputs': ['Harvard University']}, {'function': 'Relate', 'dependencies': [0], 'inputs': ['educated at', 'backward']}, {'function': 'Find', 'dependencies': [], 'inputs': ['Tom Johnson']}, {'function': 'And', 'dependencies': [1, 2], 'inputs': []}, {'function': 'Find', 'dependencies': [], 'inputs': ['CNN']}, {'function': 'QueryRelationQualifier', 'dependencies': [3, 4], 'inputs': ['employer', 'end time']}] \n",
      " ['2012-01-01', '2009-12-04', '2001', '2014-09-21', '1983-03-01', '1954-02-19', '1945-05-07', '1990-05-03', '2007-06-10', '1922-11-01'] \n",
      " 2001 \n",
      "\n",
      "What is the street address of the California Institute of the Arts? \n",
      " [{'function': 'Find', 'dependencies': [], 'inputs': ['California Institute of the Arts']}, {'function': 'QueryAttr', 'dependencies': [0], 'inputs': ['located at street address']}] \n",
      " ['1501 W Bradley Ave, Peoria, IL, 61625-0001', '600 Lincoln Avenue, Charleston, IL, 61920', '500 College Ave, Swarthmore, PA, 19081', '24700 W McBean Pky, Valencia, CA, 91355-2397', '403 Main Street, Grambling, LA, 71245', 'Administration Building, Athens, GA, 30602', '1280 Main Street West', '2 E South St, Galesburg, IL, 61401-9999', '140 West Street', 'Columbia-Campus, Columbia, SC, 29208'] \n",
      " 24700 W McBean Pky, Valencia, CA, 91355-2397 \n",
      "\n",
      "Public Enemies, composed by Elliot Goldenthal, was released in what location on its publication date, 2009-07-16? \n",
      " [{'function': 'Find', 'dependencies': [], 'inputs': ['Elliot Goldenthal']}, {'function': 'Relate', 'dependencies': [0], 'inputs': ['composer', 'backward']}, {'function': 'Find', 'dependencies': [], 'inputs': ['Public Enemies']}, {'function': 'And', 'dependencies': [1, 2], 'inputs': []}, {'function': 'QueryAttrQualifier', 'dependencies': [3], 'inputs': ['publication date', '2009-07-16', 'place of publication']}] \n",
      " ['Hungary', 'Ukraine', 'Davao City', 'Argentina', 'Sydney', 'Washington, D.C.', 'BFI London Film Festival', 'Chicago', 'Moscow', 'Park City'] \n",
      " Hungary \n",
      "\n",
      "Where is the visual artwork titled \"A Civil Action\" that was published on April 22, 1999 published? \n",
      " [{'function': 'FindAll', 'dependencies': [], 'inputs': []}, {'function': 'FilterStr', 'dependencies': [0], 'inputs': ['title', 'A Civil Action']}, {'function': 'FilterConcept', 'dependencies': [1], 'inputs': ['visual artwork']}, {'function': 'QueryAttrQualifier', 'dependencies': [2], 'inputs': ['publication date', '1999-04-22', 'place of publication']}] \n",
      " ['New York', 'Germany', 'New York City', 'India', 'British Hong Kong', 'Malaysia', \"Grauman's Chinese Theatre\", 'Austria', 'Pakistan', 'El Capitan Theatre'] \n",
      " Germany \n",
      "\n",
      "What number of animated movies were published after 1940? \n",
      " [{'function': 'FindAll', 'dependencies': [], 'inputs': []}, {'function': 'FilterYear', 'dependencies': [0], 'inputs': ['publication date', '1940', '>']}, {'function': 'FilterConcept', 'dependencies': [1], 'inputs': ['animated film']}, {'function': 'Count', 'dependencies': [2], 'inputs': []}] \n",
      " ['35', '36', '37', '38', '39', '40', '41', '42', '43', '44'] \n",
      " 39 \n",
      "\n",
      "What is the connection between The Matrix Revolutions to California (the one whose CANTIC-ID is a11459566)? \n",
      " [{'function': 'Find', 'dependencies': [], 'inputs': ['The Matrix Revolutions']}, {'function': 'Find', 'dependencies': [], 'inputs': ['California']}, {'function': 'FilterStr', 'dependencies': [1], 'inputs': ['CANTIC-ID', 'a11459566']}, {'function': 'QueryRelation', 'dependencies': [0, 2], 'inputs': []}] \n",
      " ['doctoral advisor', 'license', 'dedicated to', 'successful candidate', 'uses', 'programming paradigm', 'captain', 'filming location', 'grants', 'head coach'] \n",
      " filming location \n",
      "\n",
      "Does the soccer club in Hamburg use the Instagram name fcstpauli ? \n",
      " [{'function': 'Find', 'dependencies': [], 'inputs': ['Hamburg']}, {'function': 'Relate', 'dependencies': [0], 'inputs': ['located in the administrative territorial entity', 'backward']}, {'function': 'FilterConcept', 'dependencies': [1], 'inputs': ['association football club']}, {'function': 'QueryAttr', 'dependencies': [2], 'inputs': ['Instagram username']}, {'function': 'VerifyStr', 'dependencies': [3], 'inputs': ['fcstpauli']}] \n",
      " ['yes', 'no', 'unknown', 'unknown', 'unknown', 'unknown', 'unknown', 'unknown', 'unknown', 'unknown'] \n",
      " yes \n",
      "\n",
      "How many sports are included in the modern pentathlon or designated by IAB code 498? \n",
      " [{'function': 'Find', 'dependencies': [], 'inputs': ['modern pentathlon']}, {'function': 'Relate', 'dependencies': [0], 'inputs': ['has part', 'forward']}, {'function': 'FilterConcept', 'dependencies': [1], 'inputs': ['sport']}, {'function': 'FindAll', 'dependencies': [], 'inputs': []}, {'function': 'FilterStr', 'dependencies': [3], 'inputs': ['IAB code', '498']}, {'function': 'FilterConcept', 'dependencies': [4], 'inputs': ['sport']}, {'function': 'Or', 'dependencies': [2, 5], 'inputs': []}, {'function': 'Count', 'dependencies': [6], 'inputs': []}] \n",
      " ['0', '1', '2', '3', '4', '5', '6', '7', '8', '9'] \n",
      " 2 \n",
      "\n",
      "What was based on The Lion King (released in the USA)? \n",
      " [{'function': 'Find', 'dependencies': [], 'inputs': ['United States of America']}, {'function': 'Relate', 'dependencies': [0], 'inputs': ['film release region', 'backward']}, {'function': 'Find', 'dependencies': [], 'inputs': ['The Lion King']}, {'function': 'And', 'dependencies': [1, 2], 'inputs': []}, {'function': 'Relate', 'dependencies': [3], 'inputs': ['based on', 'backward']}, {'function': 'FilterConcept', 'dependencies': [4], 'inputs': ['entertainment']}, {'function': 'What', 'dependencies': [5], 'inputs': []}] \n",
      " ['Battleship', 'Batman', 'RoboCop', 'Harry Potter and the Half-Blood Prince', 'Terminator 2: Judgment Day', 'The World Is Not Enough', 'music video game', \"Charlie's Angels\", 'Medal of Honor', 'The Lion King'] \n",
      " The Lion King \n",
      "\n",
      "How are the Pittsburgh Steelers related to the Pittsburgh where David O. Selznick was born? \n",
      " [{'function': 'Find', 'dependencies': [], 'inputs': ['Pittsburgh Steelers']}, {'function': 'Find', 'dependencies': [], 'inputs': ['David O. Selznick']}, {'function': 'Relate', 'dependencies': [1], 'inputs': ['place of birth', 'forward']}, {'function': 'Find', 'dependencies': [], 'inputs': ['Pittsburgh']}, {'function': 'And', 'dependencies': [2, 3], 'inputs': []}, {'function': 'QueryRelation', 'dependencies': [0, 4], 'inputs': []}] \n",
      " ['organisation directed from the office or person', 'given name', 'genre', 'headquarters location', 'office held by head of state', 'officeholder', 'country', 'operating system', 'dedicated to', 'product or material produced'] \n",
      " headquarters location \n",
      "\n",
      "Which administrative territorial entity has the GSS code (2011) of S12000006? \n",
      " [{'function': 'FindAll', 'dependencies': [], 'inputs': []}, {'function': 'FilterStr', 'dependencies': [0], 'inputs': ['GSS code (2011)', 'S12000006']}, {'function': 'FilterConcept', 'dependencies': [1], 'inputs': ['administrative territorial entity']}, {'function': 'What', 'dependencies': [2], 'inputs': []}] \n",
      " ['Kent County', 'Punjab', 'Johnson County', 'Orange County', 'Monmouthshire', 'Cobb County', 'African Union', 'Newport', 'Dumfries and Galloway', 'London Borough of Hackney'] \n",
      " Dumfries and Galloway \n",
      "\n",
      "Which person's Twitter username is theharryshearer? \n",
      " [{'function': 'FindAll', 'dependencies': [], 'inputs': []}, {'function': 'FilterStr', 'dependencies': [0], 'inputs': ['Twitter username', 'theharryshearer']}, {'function': 'FilterConcept', 'dependencies': [1], 'inputs': ['human']}, {'function': 'What', 'dependencies': [2], 'inputs': []}] \n",
      " ['Max Fleischer', 'Peter Graves', 'Ozzy Osbourne', 'Al Roker', 'Eli Roth', 'Harry Shearer', 'Sylvester Stallone', 'Taraji P. Henson', 'William Henry Harrison', 'Richard Gere'] \n",
      " Harry Shearer \n",
      "\n",
      "Does literature-based film The Fugitive clock in at over 3900 seconds ? \n",
      " [{'function': 'Find', 'dependencies': [], 'inputs': ['film based on literature']}, {'function': 'Relate', 'dependencies': [0], 'inputs': ['genre', 'backward']}, {'function': 'Find', 'dependencies': [], 'inputs': ['The Fugitive']}, {'function': 'And', 'dependencies': [1, 2], 'inputs': []}, {'function': 'QueryAttr', 'dependencies': [3], 'inputs': ['duration']}, {'function': 'VerifyNum', 'dependencies': [4], 'inputs': ['3900 second', '>']}] \n",
      " ['yes', 'no', 'unknown', 'unknown', 'unknown', 'unknown', 'unknown', 'unknown', 'unknown', 'unknown'] \n",
      " no \n",
      "\n",
      "Does the person with a birthplace in Wilmington (PermID 5000381633) have the ISNI code 0000 0001 0941 5921 ? \n",
      " [{'function': 'Find', 'dependencies': [], 'inputs': ['Wilmington']}, {'function': 'FilterStr', 'dependencies': [0], 'inputs': ['PermID', '5000381633']}, {'function': 'Relate', 'dependencies': [1], 'inputs': ['place of birth', 'backward']}, {'function': 'FilterConcept', 'dependencies': [2], 'inputs': ['human']}, {'function': 'QueryAttr', 'dependencies': [3], 'inputs': ['ISNI']}, {'function': 'VerifyStr', 'dependencies': [4], 'inputs': ['0000 0001 0941 5921']}] \n",
      " ['yes', 'no', 'unknown', 'unknown', 'unknown', 'unknown', 'unknown', 'unknown', 'unknown', 'unknown'] \n",
      " no \n",
      "\n",
      "What is the connection between Menahem Golan to Hebrew? \n",
      " [{'function': 'Find', 'dependencies': [], 'inputs': ['Menahem Golan']}, {'function': 'Find', 'dependencies': [], 'inputs': ['Hebrew']}, {'function': 'QueryRelation', 'dependencies': [0, 1], 'inputs': []}] \n",
      " ['symptom of', 'general manager', 'hair color', 'dialect of', 'home port', 'product or material produced', 'cause of death', 'owned by', 'significant event', 'languages spoken, written or signed'] \n",
      " languages spoken, written or signed \n",
      "\n",
      "How many researchers are the occupation of Aristotle or practice motivational speaking? \n",
      " [{'function': 'Find', 'dependencies': [], 'inputs': ['Aristotle']}, {'function': 'Relate', 'dependencies': [0], 'inputs': ['occupation', 'forward']}, {'function': 'FilterConcept', 'dependencies': [1], 'inputs': ['researcher']}, {'function': 'Find', 'dependencies': [], 'inputs': ['motivational speaking']}, {'function': 'Relate', 'dependencies': [3], 'inputs': ['practiced by', 'forward']}, {'function': 'FilterConcept', 'dependencies': [4], 'inputs': ['researcher']}, {'function': 'Or', 'dependencies': [2, 5], 'inputs': []}, {'function': 'Count', 'dependencies': [6], 'inputs': []}] \n",
      " ['0', '1', '2', '3', '4', '5', '6', '7', '8', '9'] \n",
      " 2 \n",
      "\n",
      "How many Ireland counties have licence plate code DL or an ISO 3166-2 code of IE-CE? \n",
      " [{'function': 'FindAll', 'dependencies': [], 'inputs': []}, {'function': 'FilterStr', 'dependencies': [0], 'inputs': ['licence plate code', 'DL']}, {'function': 'FilterConcept', 'dependencies': [1], 'inputs': ['county of Ireland']}, {'function': 'FindAll', 'dependencies': [], 'inputs': []}, {'function': 'FilterStr', 'dependencies': [3], 'inputs': ['ISO 3166-2 code', 'IE-CE']}, {'function': 'FilterConcept', 'dependencies': [4], 'inputs': ['county of Ireland']}, {'function': 'Or', 'dependencies': [2, 5], 'inputs': []}, {'function': 'Count', 'dependencies': [6], 'inputs': []}] \n",
      " ['0', '1', '2', '3', '4', '5', '6', '7', '8', '9'] \n",
      " 2 \n",
      "\n",
      "Which film originating in the USA is titled Kansas City? \n",
      " [{'function': 'Find', 'dependencies': [], 'inputs': ['United States of America']}, {'function': 'Relate', 'dependencies': [0], 'inputs': ['country of origin', 'backward']}, {'function': 'FilterConcept', 'dependencies': [1], 'inputs': ['film']}, {'function': 'FindAll', 'dependencies': [], 'inputs': []}, {'function': 'FilterStr', 'dependencies': [3], 'inputs': ['title', 'Kansas City']}, {'function': 'FilterConcept', 'dependencies': [4], 'inputs': ['film']}, {'function': 'And', 'dependencies': [2, 5], 'inputs': []}, {'function': 'What', 'dependencies': [6], 'inputs': []}] \n",
      " ['Kansas City', 'Talk to Her', 'It', 'The Color Purple', 'Topaz', 'A Prairie Home Companion', 'Star Trek: Nemesis', 'Anchorman: The Legend of Ron Burgundy', 'The Wrestler', 'Pleasantville'] \n",
      " Kansas City \n",
      "\n",
      "Which area is smaller, Czechoslovakia or Syria? \n",
      " [{'function': 'Find', 'dependencies': [], 'inputs': ['Czechoslovakia']}, {'function': 'Find', 'dependencies': [], 'inputs': ['Syria']}, {'function': 'SelectBetween', 'dependencies': [0, 1], 'inputs': ['area', 'less']}] \n",
      " ['Samoa', 'Czechoslovakia', 'Cambodia', 'Russian Soviet Federative Socialist Republic', 'Kiribati', 'Socialist Federal Republic of Yugoslavia', 'Switzerland', 'Weimar Republic', 'Benin', 'South Sudan'] \n",
      " Czechoslovakia \n",
      "\n",
      "When did T-Pain win the MTV Video Music Award for Best Visual Effects? \n",
      " [{'function': 'Find', 'dependencies': [], 'inputs': ['MTV Video Music Award for Best Visual Effects']}, {'function': 'Find', 'dependencies': [], 'inputs': ['T-Pain']}, {'function': 'QueryRelationQualifier', 'dependencies': [0, 1], 'inputs': ['winner', 'point in time']}] \n",
      " ['1955-12-01', '1966-04-18', '2005-12-31', '1375', '1995-12-19', '1980-10-01', '1944-01-01', '1885-01-01', '1976-12-01', '2008'] \n",
      " 2008 \n",
      "\n",
      "What business is the parent organization of UPN starting in the year 1995? \n",
      " [{'function': 'Find', 'dependencies': [], 'inputs': ['UPN']}, {'function': 'Relate', 'dependencies': [0], 'inputs': ['parent organization', 'forward']}, {'function': 'QFilterYear', 'dependencies': [1], 'inputs': ['start time', '1995', '=']}, {'function': 'FilterConcept', 'dependencies': [2], 'inputs': ['business']}, {'function': 'What', 'dependencies': [3], 'inputs': []}] \n",
      " ['Entertainment One', 'Adobe Inc.', 'Viacom', 'Vodafone', 'Silver Pictures', 'KLM', 'Pfizer', 'Skidmore Owings Merrill', 'Sega', \"McDonald's\"] \n",
      " Viacom \n",
      "\n",
      "Is dbqsv79x1jqfz06 the Libris-URI of the person whose official website is http://www.tomjones.com? \n",
      " [{'function': 'FindAll', 'dependencies': [], 'inputs': []}, {'function': 'FilterStr', 'dependencies': [0], 'inputs': ['official website', 'http://www.tomjones.com']}, {'function': 'FilterConcept', 'dependencies': [1], 'inputs': ['human']}, {'function': 'QueryAttr', 'dependencies': [2], 'inputs': ['Libris-URI']}, {'function': 'VerifyStr', 'dependencies': [3], 'inputs': ['dbqsv79x1jqfz06']}] \n",
      " ['yes', 'no', 'unknown', 'unknown', 'unknown', 'unknown', 'unknown', 'unknown', 'unknown', 'unknown'] \n",
      " yes \n",
      "\n",
      "When did Lowell have a population of 109945? \n",
      " [{'function': 'Find', 'dependencies': [], 'inputs': ['Lowell']}, {'function': 'QueryAttrQualifier', 'dependencies': [0], 'inputs': ['population', '109945', 'point in time']}] \n",
      " ['2010', '2016-09-01', '1776-07-04', '2011-01-17', '1847', '2011-09-01', '2006-01-01', '1944', '2005-06-15', '1870'] \n",
      " 2010 \n",
      "\n",
      "Does Styria or Chiapas cover a smaller area? \n",
      " [{'function': 'Find', 'dependencies': [], 'inputs': ['Styria']}, {'function': 'Find', 'dependencies': [], 'inputs': ['Chiapas']}, {'function': 'SelectBetween', 'dependencies': [0, 1], 'inputs': ['area', 'less']}] \n",
      " ['Tasmania', 'Lublin Voivodeship', 'Chiapas', 'Styria', 'Greater Poland Voivodeship', 'Punjab', 'Upper Austria', 'England', 'Minas Gerais', 'Podlaskie Voivodeship'] \n",
      " Styria \n",
      "\n",
      "Which has a higher mains voltage, Nigeria or Kuwait? \n",
      " [{'function': 'Find', 'dependencies': [], 'inputs': ['Nigeria']}, {'function': 'Find', 'dependencies': [], 'inputs': ['Kuwait']}, {'function': 'SelectBetween', 'dependencies': [0, 1], 'inputs': ['mains voltage', 'greater']}] \n",
      " ['Benin', 'Russian Soviet Federative Socialist Republic', 'Switzerland', 'Kuwait', 'Samoa', 'Nigeria', 'Cambodia', 'Kiribati', 'Socialist Federal Republic of Yugoslavia', 'Weimar Republic'] \n",
      " Kuwait \n",
      "\n",
      "How many rock bands were founded pre-1973? \n",
      " [{'function': 'FindAll', 'dependencies': [], 'inputs': []}, {'function': 'FilterYear', 'dependencies': [0], 'inputs': ['inception', '1973', '<']}, {'function': 'FilterConcept', 'dependencies': [1], 'inputs': ['rock band']}, {'function': 'Count', 'dependencies': [2], 'inputs': []}] \n",
      " ['23', '24', '25', '26', '27', '28', '29', '30', '31', '32'] \n",
      " 27 \n",
      "\n",
      "Who is the nominee of the Academy Award for Best Actress for which Anne of the Thousand Days was nominated? \n",
      " [{'function': 'Find', 'dependencies': [], 'inputs': ['Anne of the Thousand Days']}, {'function': 'Find', 'dependencies': [], 'inputs': ['Academy Award for Best Actress']}, {'function': 'QueryRelationQualifier', 'dependencies': [0, 1], 'inputs': ['nominated for', 'nominee']}] \n",
      " ['John Hurt', 'Angelo P. Graham', 'Geneviève Bujold', 'Alan Jay Lerner', 'Julia Phillips', 'James J. Murakami', 'Frank Langella', 'David Dockendorf', 'Don DaGradi', 'Don Burgess'] \n",
      " Geneviève Bujold \n",
      "\n",
      "What is the Deutsche Synchronkartei actor-ID for the person who wrote the screenplay for The Birdcage? \n",
      " [{'function': 'Find', 'dependencies': [], 'inputs': ['The Birdcage']}, {'function': 'Relate', 'dependencies': [0], 'inputs': ['screenwriter', 'forward']}, {'function': 'FilterConcept', 'dependencies': [1], 'inputs': ['human']}, {'function': 'QueryAttr', 'dependencies': [2], 'inputs': ['Deutsche Synchronkartei actor-ID']}] \n",
      " ['734', '88', '13562', '878', '1856', '23303', '3323', '2615', '968', '10273'] \n",
      " 13562 \n",
      "\n",
      "What association football club has the official website of http://www.lemansfc.fr/? \n",
      " [{'function': 'FindAll', 'dependencies': [], 'inputs': []}, {'function': 'FilterStr', 'dependencies': [0], 'inputs': ['official website', 'http://www.lemansfc.fr/']}, {'function': 'FilterConcept', 'dependencies': [1], 'inputs': ['association football club']}, {'function': 'What', 'dependencies': [2], 'inputs': []}] \n",
      " ['Brisbane Roar FC', 'Middlesbrough F.C.', 'Le Mans U.C. 72', 'Zamalek SC', 'Stade Brestois 29', 'FC Basel', 'Roda JC Kerkrade', 'Adelaide United Football Club', 'Bolton Wanderers F.C.', 'Club de Fútbol Monterrey'] \n",
      " Le Mans U.C. 72 \n",
      "\n",
      "Where was Sabrina (which has Angie Dickinson as a cast member) published on 1996-01-11? \n",
      " [{'function': 'Find', 'dependencies': [], 'inputs': ['Angie Dickinson']}, {'function': 'Relate', 'dependencies': [0], 'inputs': ['cast member', 'backward']}, {'function': 'Find', 'dependencies': [], 'inputs': ['Sabrina']}, {'function': 'And', 'dependencies': [1, 2], 'inputs': []}, {'function': 'QueryAttrQualifier', 'dependencies': [3], 'inputs': ['publication date', '1996-01-11', 'place of publication']}] \n",
      " ['Jordan', 'Greece', 'Germany', '2003 Cannes Film Festival', 'Toronto International Film Festival', 'European Union', 'British Hong Kong', 'London', 'Sorrento', 'Turkey'] \n",
      " Germany \n",
      "\n",
      "Of New Jersey cities with under 350000 in population, which is biggest in terms of area? \n",
      " [{'function': 'FindAll', 'dependencies': [], 'inputs': []}, {'function': 'FilterNum', 'dependencies': [0], 'inputs': ['population', '350000', '<']}, {'function': 'FilterConcept', 'dependencies': [1], 'inputs': ['city in New Jersey']}, {'function': 'SelectAmong', 'dependencies': [2], 'inputs': ['area', 'largest']}] \n",
      " ['Hoboken', 'Bayonne', 'Paterson', 'Perth Amboy', 'New Brunswick', 'Trenton', 'Camden', 'Atlantic City', 'Newark', 'East Orange'] \n",
      " Newark \n",
      "\n"
     ]
    }
   ],
   "source": [
    "i = 0\n",
    "for statement in trn:\n",
    "    print(statement['question'], '\\n', statement['program'], '\\n', statement['choices'], '\\n', statement['answer'], '\\n')\n",
    "    i += 1\n",
    "    if i == 100: break\n"
   ]
  },
  {
   "cell_type": "markdown",
   "metadata": {},
   "source": [
    "### QA Choices that are not included in KB"
   ]
  },
  {
   "cell_type": "code",
   "execution_count": 18,
   "metadata": {},
   "outputs": [],
   "source": [
    "function_type = ['FindAll', 'Find', \n",
    "'FilterConcept', 'FilterStr', 'FilterNum', 'FilterYear', 'FilterDate', 'QFilterStr', 'QFilterNum', 'QFilterYear', 'QFilterDate', \n",
    "'Relate', 'And', 'Or', 'What', 'Count', # Note: In the data 'QueryName' is substituted to 'What'\n",
    "'QueryAttr', 'QueryAttrUnderCondition', 'QueryRelation', \n",
    "'SelectBetween','SelectAmong', \n",
    "'VerifyStr', 'VerifyNum', 'VerifyYear', 'VerifyDate',\n",
    "'QueryAttrQualifier', 'QueryRelationQualifier']"
   ]
  },
  {
   "cell_type": "code",
   "execution_count": 19,
   "metadata": {},
   "outputs": [],
   "source": [
    "for statement in trn:\n",
    "    for function in statement['program']:\n",
    "        if function['function'] == 'What':\n",
    "            trn_choices.update([string_clean(i) for i in statement['choices']])\n",
    "            break\n",
    "for statement in vld:\n",
    "    for function in statement['program']:\n",
    "        if function['function'] == 'What':\n",
    "            vld_choices.update([string_clean(i) for i in statement['choices']])\n",
    "            break"
   ]
  },
  {
   "cell_type": "code",
   "execution_count": 20,
   "metadata": {},
   "outputs": [],
   "source": [
    "trn_choice_intersection = trn_choices.intersection(entities_set)\n",
    "vld_choice_intersection = vld_choices.intersection(entities_set)"
   ]
  },
  {
   "cell_type": "code",
   "execution_count": 21,
   "metadata": {},
   "outputs": [
    {
     "data": {
      "text/plain": [
       "(13291, 13693, 13393, 99.23840812364668, 102)"
      ]
     },
     "execution_count": 21,
     "metadata": {},
     "output_type": "execute_result"
    }
   ],
   "source": [
    "len(trn_choice_intersection), len(entities_set), len(trn_choices), (len(trn_choice_intersection) / len(trn_choices) * 100), len(trn_choices) - len(trn_choice_intersection)"
   ]
  },
  {
   "cell_type": "code",
   "execution_count": 22,
   "metadata": {},
   "outputs": [
    {
     "data": {
      "text/plain": [
       "(6601, 13693, 6629, 99.57761351636748, 28)"
      ]
     },
     "execution_count": 22,
     "metadata": {},
     "output_type": "execute_result"
    }
   ],
   "source": [
    "len(vld_choice_intersection), len(entities_set), len(vld_choices), (len(vld_choice_intersection) / len(vld_choices) * 100), len(vld_choices) - len(vld_choice_intersection)"
   ]
  },
  {
   "cell_type": "code",
   "execution_count": 23,
   "metadata": {},
   "outputs": [],
   "source": [
    "# with open('trn_choices.txt', 'w') as f:\n",
    "#     f.write(str(trn_choices))\n",
    "# with open('vld_choices.txt', 'w') as f:\n",
    "#     f.write(str(trn_choices))"
   ]
  },
  {
   "cell_type": "code",
   "execution_count": 24,
   "metadata": {},
   "outputs": [],
   "source": [
    "outliers_trn_choice = set([(i if i not in trn_choice_intersection else None) for i in trn_choices])\n",
    "outliers_trn_choice.discard(None)\n",
    "outliers_vld_choice = set([(i if i not in vld_choice_intersection else None) for i in vld_choices])\n",
    "outliers_vld_choice.discard(None)"
   ]
  },
  {
   "cell_type": "code",
   "execution_count": 25,
   "metadata": {},
   "outputs": [
    {
     "data": {
      "text/plain": [
       "(102, 28)"
      ]
     },
     "execution_count": 25,
     "metadata": {},
     "output_type": "execute_result"
    }
   ],
   "source": [
    "len(outliers_trn_choice), len(outliers_vld_choice)"
   ]
  },
  {
   "cell_type": "code",
   "execution_count": 26,
   "metadata": {},
   "outputs": [
    {
     "data": {
      "text/plain": [
       "(102, 28)"
      ]
     },
     "execution_count": 26,
     "metadata": {},
     "output_type": "execute_result"
    }
   ],
   "source": [
    "trn_int = outliers_trn_choice.intersection(concepts_set)\n",
    "vld_int = outliers_vld_choice.intersection(concepts_set)\n",
    "len(trn_int), len(vld_int)"
   ]
  },
  {
   "cell_type": "code",
   "execution_count": 27,
   "metadata": {},
   "outputs": [
    {
     "data": {
      "text/plain": [
       "(set(), set())"
      ]
     },
     "execution_count": 27,
     "metadata": {},
     "output_type": "execute_result"
    }
   ],
   "source": [
    "outliers_trn_choice_all = set([(i if i not in trn_int else None) for i in outliers_trn_choice])\n",
    "outliers_trn_choice_all.discard(None)\n",
    "outliers_vld_choice_all = set([(i if i not in vld_int else None) for i in outliers_vld_choice])\n",
    "outliers_vld_choice_all.discard(None)\n",
    "outliers_trn_choice_all, outliers_vld_choice_all"
   ]
  },
  {
   "cell_type": "markdown",
   "metadata": {},
   "source": [
    "### Extract query?"
   ]
  },
  {
   "cell_type": "code",
   "execution_count": null,
   "metadata": {},
   "outputs": [],
   "source": []
  }
 ],
 "metadata": {
  "interpreter": {
   "hash": "3421aaa79151ef0aca049aa19f5c737406fd1b61632fd3aea212965409f1f2a0"
  },
  "kernelspec": {
   "display_name": "Python 3.9.7 64-bit ('intern_env': conda)",
   "language": "python",
   "name": "python3"
  },
  "language_info": {
   "codemirror_mode": {
    "name": "ipython",
    "version": 3
   },
   "file_extension": ".py",
   "mimetype": "text/x-python",
   "name": "python",
   "nbconvert_exporter": "python",
   "pygments_lexer": "ipython3",
   "version": "3.9.7"
  },
  "orig_nbformat": 4
 },
 "nbformat": 4,
 "nbformat_minor": 2
}
